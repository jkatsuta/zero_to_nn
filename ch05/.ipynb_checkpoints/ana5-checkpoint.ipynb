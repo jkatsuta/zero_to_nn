{
 "cells": [
  {
   "cell_type": "code",
   "execution_count": 2,
   "metadata": {
    "collapsed": false
   },
   "outputs": [
    {
     "name": "stdout",
     "output_type": "stream",
     "text": [
      "220.00000000000003\n",
      "200 1.1 110.00000000000001 2.2\n"
     ]
    }
   ],
   "source": [
    "import layer_naive\n",
    "apple = 100\n",
    "num_apple = 2\n",
    "tax = 1.1\n",
    "\n",
    "# layer\n",
    "mul_apple_layer = layer_naive.MulLayer()\n",
    "mul_tax_layer = layer_naive.MulLayer()\n",
    "\n",
    "# forward\n",
    "price_apple = mul_apple_layer.forward(apple, num_apple)\n",
    "price = mul_tax_layer.forward(price_apple, tax)\n",
    "print(price)\n",
    "\n",
    "# backward\n",
    "dprice = 1\n",
    "dapple_price, dtax = mul_tax_layer.backward(dprice)\n",
    "dapple, dapple_num = mul_apple_layer.backward(dapple_price)\n",
    "print(dtax, dapple_price, dapple_num, dapple)"
   ]
  },
  {
   "cell_type": "code",
   "execution_count": 7,
   "metadata": {
    "collapsed": false
   },
   "outputs": [
    {
     "name": "stdout",
     "output_type": "stream",
     "text": [
      "715.0000000000001\n",
      "1.1 1.1 2.2 110.00000000000001 3.3000000000000003 165.0\n"
     ]
    }
   ],
   "source": [
    "import layer_naive\n",
    "import importlib\n",
    "importlib.reload(layer_naive)\n",
    "\n",
    "apple = 100\n",
    "num_apple = 2\n",
    "orange = 150\n",
    "num_orange = 3\n",
    "tax = 1.1\n",
    "\n",
    "# layer\n",
    "mul_apple_layer = layer_naive.MulLayer()\n",
    "mul_orange_layer = layer_naive.MulLayer()\n",
    "add_layer = layer_naive.AddLayer()\n",
    "mul_tax_layer = layer_naive.MulLayer()\n",
    "\n",
    "# forward \n",
    "price_apple = mul_apple_layer.forward(apple, num_apple)\n",
    "price_orange = mul_orange_layer.forward(orange, num_orange)\n",
    "price_sum = add_layer.forward(price_apple, price_orange)\n",
    "price = mul_tax_layer.forward(price_sum, tax)\n",
    "print(price)\n",
    "\n",
    "#backward\n",
    "dprice = 1\n",
    "dprice_sum, dtax = mul_tax_layer.backward(dprice)\n",
    "dprice_apple, dprice_orange = add_layer.backward(dprice_sum)\n",
    "dapple, dnum_apple = mul_apple_layer.backward(dprice_apple)\n",
    "dorange, dnum_orange = mul_orange_layer.backward(dprice_orange)\n",
    "print(dprice_apple, dprice_orange, dapple, dnum_apple, dorange, dnum_orange)"
   ]
  },
  {
   "cell_type": "code",
   "execution_count": 10,
   "metadata": {
    "collapsed": false
   },
   "outputs": [
    {
     "data": {
      "text/plain": [
       "array([0, 0, 0, 0, 0, 0, 6, 7, 8, 9])"
      ]
     },
     "execution_count": 10,
     "metadata": {},
     "output_type": "execute_result"
    }
   ],
   "source": [
    "a = np.arange(10)\n",
    "np.where(a>5, a, 0)"
   ]
  },
  {
   "cell_type": "code",
   "execution_count": null,
   "metadata": {
    "collapsed": true
   },
   "outputs": [],
   "source": []
  }
 ],
 "metadata": {
  "kernelspec": {
   "display_name": "Python 3",
   "language": "python",
   "name": "python3"
  },
  "language_info": {
   "codemirror_mode": {
    "name": "ipython",
    "version": 3
   },
   "file_extension": ".py",
   "mimetype": "text/x-python",
   "name": "python",
   "nbconvert_exporter": "python",
   "pygments_lexer": "ipython3",
   "version": "3.5.1"
  }
 },
 "nbformat": 4,
 "nbformat_minor": 0
}

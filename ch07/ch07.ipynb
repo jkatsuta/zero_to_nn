{
 "cells": [
  {
   "cell_type": "code",
   "execution_count": 3,
   "metadata": {
    "collapsed": false
   },
   "outputs": [
    {
     "name": "stdout",
     "output_type": "stream",
     "text": [
      "(9, 75)\n",
      "(90, 75)\n"
     ]
    }
   ],
   "source": [
    "import os\n",
    "import sys\n",
    "sys.path.append(os.pardir)\n",
    "from common.util import im2col\n",
    "\n",
    "x1 = np.random.rand(1, 3, 7, 7)\n",
    "col1 = im2col(x1, 5, 5, stride=1, pad=0)\n",
    "print(col1.shape)\n",
    "\n",
    "x2 = np.random.rand(10, 3, 7, 7)\n",
    "col2 = im2col(x2, 5, 5, stride=1, pad=0)\n",
    "print(col2.shape)\n"
   ]
  },
  {
   "cell_type": "code",
   "execution_count": 7,
   "metadata": {
    "collapsed": false
   },
   "outputs": [
    {
     "data": {
      "text/plain": [
       "array([[ 0, 11],\n",
       "       [ 2, 13]])"
      ]
     },
     "execution_count": 7,
     "metadata": {},
     "output_type": "execute_result"
    }
   ],
   "source": [
    "np.arange(4).reshape(2, 2) + np.array([0, 10])"
   ]
  },
  {
   "cell_type": "code",
   "execution_count": 1,
   "metadata": {
    "collapsed": true
   },
   "outputs": [],
   "source": [
    "a = np.arange(6).reshape(3, 2)"
   ]
  },
  {
   "cell_type": "code",
   "execution_count": 5,
   "metadata": {
    "collapsed": false
   },
   "outputs": [
    {
     "name": "stdout",
     "output_type": "stream",
     "text": [
      "[[0 2 4 1 3 5]]\n",
      "[[0 2 4]\n",
      " [1 3 5]]\n"
     ]
    }
   ],
   "source": [
    "print(a.T.reshape(1, -1))\n",
    "print(a.transpose(1, 0))"
   ]
  },
  {
   "cell_type": "code",
   "execution_count": 13,
   "metadata": {
    "collapsed": false
   },
   "outputs": [
    {
     "name": "stdout",
     "output_type": "stream",
     "text": [
      "(9, 48)\n",
      "[  0.   0.   0.   0.   0.   0.   1.   2.   0.   4.   5.   6.   0.   8.   9.\n",
      "  10.   0.   0.   0.   0.   0.  16.  17.  18.   0.  20.  21.  22.   0.  24.\n",
      "  25.  26.   0.   0.   0.   0.   0.  32.  33.  34.   0.  36.  37.  38.   0.\n",
      "  40.  41.  42.]\n",
      "[  0.   0.   0.   0.   0.   0.   1.   2.   0.   4.   5.   6.   0.   8.   9.\n",
      "  10.]\n"
     ]
    }
   ],
   "source": [
    "import sys\n",
    "import os\n",
    "sys.path.append(os.pardir)\n",
    "from common.util import im2col\n",
    "a = np.arange(48).reshape(1, 3, 4, 4)\n",
    "print(im2col(a, 4, 4, 1, 1).shape)\n",
    "\n",
    "print(im2col(a, 4, 4, 1, 1)[0])\n",
    "print(im2col(a, 4, 4, 1, 1).reshape(-1, 16)[0])"
   ]
  },
  {
   "cell_type": "code",
   "execution_count": null,
   "metadata": {
    "collapsed": true
   },
   "outputs": [],
   "source": []
  },
  {
   "cell_type": "code",
   "execution_count": 9,
   "metadata": {
    "collapsed": false
   },
   "outputs": [],
   "source": [
    "import os\n",
    "import sys\n",
    "sys.path.append(os.pardir)\n",
    "from dataset.mnist import load_mnist\n",
    "\n",
    "import cnn_simple\n",
    "import common.optimizer as opt\n",
    "\n",
    "\n",
    "(x_train, y_train), (x_test, y_test) = load_mnist(normalize=True, one_hot_label=True)\n",
    "size_sample_train = 5000\n",
    "size_sample_test = 1000\n",
    "x_train = x_train[:size_sample_train]\n",
    "y_train = y_train[:size_sample_train]\n",
    "x_test = x_test[:size_sample_test]\n",
    "y_test = y_test[:size_sample_test]\n",
    "\n",
    "x_train = x_train.reshape(-1, 1, 28, 28)\n",
    "x_test = x_test.reshape(-1, 1, 28, 28)\n",
    "\n",
    "size_hidden = 100\n",
    "size_batch = 100\n",
    "max_epoch = 200\n",
    "\n",
    "network = cnn_simple.SimpleConvNet(dim_in=x_train.shape[1:], \n",
    "                                                                   s_hidden=size_hidden,\n",
    "                                                                   s_out=y_train.shape[1],\n",
    "                                                                   std_w_init=0.1)\n",
    "optimizer = opt.SGD(lr=0.01)\n",
    "\n",
    "size_train = x_train.shape[0]\n",
    "iter_per_epoch = max(size_train / size_batch, 1)\n",
    "\n",
    "list_acc_train, list_acc_test = [], []\n",
    "i, n_epoch = 0, 0\n",
    "while 1:\n",
    "    batch_mask = np.random.choice(size_train, size_batch)\n",
    "    x_batch = x_train[batch_mask]\n",
    "    y_batch = y_train[batch_mask]\n",
    "    \n",
    "    grads = network.gradient(x_batch, y_batch)\n",
    "    optimizer.update(network.params, grads)\n",
    "    i += 1\n",
    "    \n",
    "    if i % iter_per_epoch == 0:\n",
    "        acc_train = network.accuracy(x_train, y_train)\n",
    "        acc_test = network.accuracy(x_test, y_test)\n",
    "        list_acc_train.append(acc_train)\n",
    "        list_acc_test.append(acc_test)\n",
    "        n_epoch += 1\n",
    "        \n",
    "        if n_epoch > max_epoch:\n",
    "            break"
   ]
  },
  {
   "cell_type": "code",
   "execution_count": 10,
   "metadata": {
    "collapsed": false
   },
   "outputs": [
    {
     "name": "stdout",
     "output_type": "stream",
     "text": [
      "1 0.5012 0.447\n",
      "2 0.6942 0.636\n",
      "3 0.7708 0.722\n",
      "4 0.8266 0.794\n",
      "5 0.8532 0.818\n",
      "6 0.8706 0.837\n",
      "7 0.8828 0.852\n",
      "8 0.8892 0.849\n",
      "9 0.8892 0.858\n",
      "10 0.8994 0.868\n",
      "11 0.9038 0.877\n",
      "12 0.9092 0.881\n",
      "13 0.9118 0.883\n",
      "14 0.9122 0.88\n",
      "15 0.9186 0.89\n",
      "16 0.9228 0.89\n",
      "17 0.9224 0.892\n",
      "18 0.9256 0.895\n",
      "19 0.926 0.899\n",
      "20 0.9298 0.901\n",
      "21 0.932 0.901\n",
      "22 0.9314 0.895\n",
      "23 0.9344 0.904\n",
      "24 0.935 0.904\n",
      "25 0.937 0.907\n",
      "26 0.9362 0.898\n",
      "27 0.9386 0.908\n",
      "28 0.9422 0.91\n",
      "29 0.9408 0.906\n",
      "30 0.9436 0.913\n",
      "31 0.9446 0.911\n",
      "32 0.9442 0.913\n",
      "33 0.9476 0.917\n",
      "34 0.948 0.919\n",
      "35 0.9472 0.912\n",
      "36 0.9482 0.921\n",
      "37 0.9514 0.923\n",
      "38 0.9498 0.917\n",
      "39 0.9548 0.919\n",
      "40 0.955 0.923\n",
      "41 0.953 0.915\n",
      "42 0.9548 0.92\n",
      "43 0.9566 0.922\n",
      "44 0.9564 0.925\n",
      "45 0.9582 0.921\n",
      "46 0.9602 0.924\n",
      "47 0.959 0.923\n",
      "48 0.9606 0.923\n",
      "49 0.9618 0.924\n",
      "50 0.961 0.928\n",
      "51 0.9628 0.926\n",
      "52 0.962 0.927\n",
      "53 0.9624 0.928\n",
      "54 0.9652 0.925\n",
      "55 0.967 0.929\n",
      "56 0.9672 0.924\n",
      "57 0.9656 0.928\n",
      "58 0.9648 0.928\n",
      "59 0.9684 0.93\n",
      "60 0.969 0.929\n",
      "61 0.9684 0.929\n",
      "62 0.971 0.931\n",
      "63 0.9694 0.925\n",
      "64 0.967 0.924\n",
      "65 0.9694 0.926\n",
      "66 0.9734 0.93\n",
      "67 0.9726 0.927\n",
      "68 0.9756 0.929\n",
      "69 0.9724 0.933\n",
      "70 0.974 0.927\n",
      "71 0.9746 0.934\n",
      "72 0.9754 0.932\n",
      "73 0.9758 0.933\n",
      "74 0.976 0.931\n",
      "75 0.977 0.938\n",
      "76 0.9782 0.935\n",
      "77 0.9758 0.93\n",
      "78 0.978 0.934\n",
      "79 0.9782 0.933\n",
      "80 0.9776 0.932\n",
      "81 0.9772 0.929\n",
      "82 0.9806 0.94\n",
      "83 0.9806 0.935\n",
      "84 0.9808 0.933\n",
      "85 0.9794 0.937\n",
      "86 0.9802 0.939\n",
      "87 0.9818 0.935\n",
      "88 0.9822 0.941\n",
      "89 0.9812 0.937\n",
      "90 0.9838 0.937\n",
      "91 0.984 0.936\n",
      "92 0.9828 0.936\n",
      "93 0.9836 0.937\n",
      "94 0.9832 0.939\n",
      "95 0.984 0.935\n",
      "96 0.9854 0.939\n",
      "97 0.983 0.941\n",
      "98 0.9848 0.941\n",
      "99 0.9864 0.938\n",
      "100 0.9842 0.935\n",
      "101 0.9854 0.941\n",
      "102 0.9852 0.94\n",
      "103 0.9874 0.938\n",
      "104 0.9858 0.94\n",
      "105 0.988 0.94\n",
      "106 0.9868 0.939\n",
      "107 0.9872 0.94\n",
      "108 0.9886 0.937\n",
      "109 0.986 0.94\n",
      "110 0.9888 0.94\n",
      "111 0.9884 0.946\n",
      "112 0.9896 0.938\n",
      "113 0.9868 0.945\n",
      "114 0.9906 0.941\n",
      "115 0.9894 0.942\n",
      "116 0.9892 0.944\n",
      "117 0.9904 0.942\n",
      "118 0.9902 0.943\n",
      "119 0.9902 0.938\n",
      "120 0.9914 0.939\n",
      "121 0.99 0.937\n",
      "122 0.9914 0.942\n",
      "123 0.991 0.946\n",
      "124 0.9914 0.944\n",
      "125 0.9926 0.942\n",
      "126 0.991 0.942\n",
      "127 0.9926 0.944\n",
      "128 0.9922 0.942\n",
      "129 0.9922 0.941\n",
      "130 0.9924 0.944\n",
      "131 0.993 0.946\n",
      "132 0.9918 0.943\n",
      "133 0.993 0.944\n",
      "134 0.9942 0.943\n",
      "135 0.993 0.945\n",
      "136 0.9934 0.943\n",
      "137 0.9944 0.941\n",
      "138 0.9942 0.944\n",
      "139 0.9946 0.945\n",
      "140 0.9954 0.945\n",
      "141 0.9944 0.943\n",
      "142 0.9952 0.947\n",
      "143 0.9958 0.945\n",
      "144 0.9956 0.944\n",
      "145 0.9962 0.944\n",
      "146 0.996 0.945\n",
      "147 0.9956 0.942\n",
      "148 0.9964 0.947\n",
      "149 0.9962 0.946\n",
      "150 0.9958 0.946\n",
      "151 0.996 0.943\n",
      "152 0.997 0.948\n",
      "153 0.9964 0.947\n",
      "154 0.9974 0.945\n",
      "155 0.997 0.948\n",
      "156 0.9962 0.947\n",
      "157 0.997 0.944\n",
      "158 0.9976 0.947\n",
      "159 0.9978 0.946\n",
      "160 0.9972 0.945\n",
      "161 0.9976 0.948\n",
      "162 0.9974 0.95\n",
      "163 0.9976 0.945\n",
      "164 0.9966 0.949\n",
      "165 0.9978 0.949\n",
      "166 0.9972 0.947\n",
      "167 0.998 0.944\n",
      "168 0.998 0.947\n",
      "169 0.998 0.948\n",
      "170 0.998 0.944\n",
      "171 0.9984 0.95\n",
      "172 0.9978 0.947\n",
      "173 0.998 0.945\n",
      "174 0.9978 0.947\n",
      "175 0.9986 0.948\n",
      "176 0.999 0.949\n",
      "177 0.9982 0.947\n",
      "178 0.999 0.948\n",
      "179 0.9982 0.951\n",
      "180 0.999 0.946\n",
      "181 0.9988 0.949\n",
      "182 0.9982 0.948\n",
      "183 0.9988 0.946\n",
      "184 0.9986 0.946\n",
      "185 0.9992 0.944\n",
      "186 0.999 0.947\n",
      "187 0.9992 0.948\n",
      "188 0.9988 0.947\n",
      "189 0.9988 0.951\n",
      "190 0.999 0.946\n",
      "191 0.9988 0.949\n",
      "192 0.9988 0.945\n",
      "193 0.9992 0.943\n",
      "194 0.9994 0.949\n",
      "195 0.9988 0.945\n",
      "196 0.999 0.947\n",
      "197 0.9992 0.95\n",
      "198 0.9996 0.946\n",
      "199 0.9996 0.949\n",
      "200 0.999 0.95\n",
      "201 0.9994 0.95\n"
     ]
    },
    {
     "data": {
      "text/plain": [
       "[<matplotlib.lines.Line2D at 0x117d644a8>]"
      ]
     },
     "execution_count": 10,
     "metadata": {},
     "output_type": "execute_result"
    },
    {
     "data": {
      "image/png": "[encoded data removed]",
      "text/plain": [
       "<matplotlib.figure.Figure at 0x10590d2b0>"
      ]
     },
     "metadata": {},
     "output_type": "display_data"
    }
   ],
   "source": [
    "%matplotlib inline\n",
    "for i, (acc_train, acc_test) in enumerate(zip(list_acc_train, list_acc_test)):\n",
    "    print(i + 1, acc_train, acc_test)\n",
    "plt.plot(list_acc_train, '-')\n",
    "plt.plot(list_acc_test, '-')"
   ]
  },
  {
   "cell_type": "code",
   "execution_count": 4,
   "metadata": {
    "collapsed": false
   },
   "outputs": [
    {
     "data": {
      "text/plain": [
       "(60000, 28, 28)"
      ]
     },
     "execution_count": 4,
     "metadata": {},
     "output_type": "execute_result"
    }
   ],
   "source": [
    "import sys\n",
    "sys.path.append(os.pardir)\n",
    "from dataset.mnist import load_mnist\n",
    "(x_train, y_train), (x_test, y_test) = load_mnist(normalize=True, one_hot_label=True)\n",
    "x_train.reshape(-1, 28, 28).shape"
   ]
  },
  {
   "cell_type": "code",
   "execution_count": 6,
   "metadata": {
    "collapsed": false
   },
   "outputs": [
    {
     "name": "stdout",
     "output_type": "stream",
     "text": [
      "2\n",
      "1\n"
     ]
    }
   ],
   "source": [
    "from collections import OrderedDict\n",
    "d = OrderedDict()\n",
    "d['a'] = 1\n",
    "d['b'] = 2\n",
    "for i in reversed(d.values()):\n",
    "    print(i)"
   ]
  },
  {
   "cell_type": "code",
   "execution_count": 5,
   "metadata": {
    "collapsed": false
   },
   "outputs": [
    {
     "data": {
      "text/plain": [
       "array([ True, False,  True], dtype=bool)"
      ]
     },
     "execution_count": 5,
     "metadata": {},
     "output_type": "execute_result"
    }
   ],
   "source": [
    "np.array([1,1,1]) == np.array([1,0,1])"
   ]
  },
  {
   "cell_type": "code",
   "execution_count": null,
   "metadata": {
    "collapsed": true
   },
   "outputs": [],
   "source": [
    "# =========================================="
   ]
  },
  {
   "cell_type": "code",
   "execution_count": 16,
   "metadata": {
    "collapsed": false
   },
   "outputs": [
    {
     "ename": "RuntimeError",
     "evalue": "No mappable was found to use for colorbar creation. First define a mappable such as an image (with imshow) or a contour set (with contourf).",
     "output_type": "error",
     "traceback": [
      "\u001b[0;31m---------------------------------------------------------------------------\u001b[0m",
      "\u001b[0;31mRuntimeError\u001b[0m                              Traceback (most recent call last)",
      "\u001b[0;32m<ipython-input-16-976be5c43a01>\u001b[0m in \u001b[0;36m<module>\u001b[0;34m()\u001b[0m\n\u001b[1;32m      5\u001b[0m \u001b[0;32mfor\u001b[0m \u001b[0mi\u001b[0m \u001b[0;32min\u001b[0m \u001b[0mrange\u001b[0m\u001b[0;34m(\u001b[0m\u001b[0;36m30\u001b[0m\u001b[0;34m)\u001b[0m\u001b[0;34m:\u001b[0m\u001b[0;34m\u001b[0m\u001b[0m\n\u001b[1;32m      6\u001b[0m     \u001b[0maxes\u001b[0m\u001b[0;34m[\u001b[0m\u001b[0mi\u001b[0m\u001b[0;34m]\u001b[0m\u001b[0;34m.\u001b[0m\u001b[0mmatshow\u001b[0m\u001b[0;34m(\u001b[0m\u001b[0mweights\u001b[0m\u001b[0;34m[\u001b[0m\u001b[0mi\u001b[0m\u001b[0;34m]\u001b[0m\u001b[0;34m,\u001b[0m \u001b[0mcmap\u001b[0m\u001b[0;34m=\u001b[0m\u001b[0mplt\u001b[0m\u001b[0;34m.\u001b[0m\u001b[0mcm\u001b[0m\u001b[0;34m.\u001b[0m\u001b[0mcoolwarm\u001b[0m\u001b[0;34m)\u001b[0m\u001b[0;34m\u001b[0m\u001b[0m\n\u001b[0;32m----> 7\u001b[0;31m \u001b[0mplt\u001b[0m\u001b[0;34m.\u001b[0m\u001b[0mcolorbar\u001b[0m\u001b[0;34m(\u001b[0m\u001b[0;34m)\u001b[0m\u001b[0;34m\u001b[0m\u001b[0m\n\u001b[0m",
      "\u001b[0;32m/Users/usr0102292/anaconda/lib/python3.5/site-packages/matplotlib/pyplot.py\u001b[0m in \u001b[0;36mcolorbar\u001b[0;34m(mappable, cax, ax, **kw)\u001b[0m\n\u001b[1;32m   2228\u001b[0m         \u001b[0mmappable\u001b[0m \u001b[0;34m=\u001b[0m \u001b[0mgci\u001b[0m\u001b[0;34m(\u001b[0m\u001b[0;34m)\u001b[0m\u001b[0;34m\u001b[0m\u001b[0m\n\u001b[1;32m   2229\u001b[0m         \u001b[0;32mif\u001b[0m \u001b[0mmappable\u001b[0m \u001b[0;32mis\u001b[0m \u001b[0;32mNone\u001b[0m\u001b[0;34m:\u001b[0m\u001b[0;34m\u001b[0m\u001b[0m\n\u001b[0;32m-> 2230\u001b[0;31m             raise RuntimeError('No mappable was found to use for colorbar '\n\u001b[0m\u001b[1;32m   2231\u001b[0m                                \u001b[0;34m'creation. First define a mappable such as '\u001b[0m\u001b[0;34m\u001b[0m\u001b[0m\n\u001b[1;32m   2232\u001b[0m                                \u001b[0;34m'an image (with imshow) or a contour set ('\u001b[0m\u001b[0;34m\u001b[0m\u001b[0m\n",
      "\u001b[0;31mRuntimeError\u001b[0m: No mappable was found to use for colorbar creation. First define a mappable such as an image (with imshow) or a contour set (with contourf)."
     ]
    },
    {
     "data": {
      "image/png": "[encoded data removed]",
      "text/plain": [
       "<matplotlib.figure.Figure at 0x12300bc50>"
      ]
     },
     "metadata": {},
     "output_type": "display_data"
    }
   ],
   "source": [
    "weights = network.params['W1'].reshape(30, 5, 5)\n",
    "\n",
    "fig, axes = plt.subplots(6, 5, figsize=(20, 16), sharex=True, sharey=True)\n",
    "axes = axes.flatten()\n",
    "for i in range(30):\n",
    "    axes[i].matshow(weights[i], cmap=plt.cm.coolwarm)\n"
   ]
  },
  {
   "cell_type": "code",
   "execution_count": null,
   "metadata": {
    "collapsed": true
   },
   "outputs": [],
   "source": []
  }
 ],
 "metadata": {
  "kernelspec": {
   "display_name": "Python 3",
   "language": "python",
   "name": "python3"
  },
  "language_info": {
   "codemirror_mode": {
    "name": "ipython",
    "version": 3
   },
   "file_extension": ".py",
   "mimetype": "text/x-python",
   "name": "python",
   "nbconvert_exporter": "python",
   "pygments_lexer": "ipython3",
   "version": "3.5.2"
  }
 },
 "nbformat": 4,
 "nbformat_minor": 0
}

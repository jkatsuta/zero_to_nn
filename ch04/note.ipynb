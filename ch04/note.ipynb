{
 "cells": [
  {
   "cell_type": "code",
   "execution_count": 1,
   "metadata": {
    "collapsed": false
   },
   "outputs": [
    {
     "data": {
      "text/plain": [
       "[<matplotlib.lines.Line2D at 0x1173666a0>]"
      ]
     },
     "execution_count": 1,
     "metadata": {},
     "output_type": "execute_result"
    },
    {
     "data": {
      "image/png": "[encoded data removed]",
      "text/plain": [
       "<matplotlib.figure.Figure at 0x117366668>"
      ]
     },
     "metadata": {},
     "output_type": "display_data"
    }
   ],
   "source": [
    "def f1(x):\n",
    "    return 0.01 * x**2 + 0.1 * x\n",
    "\n",
    "def numerical_diff(f, x):\n",
    "    h = 1e-4\n",
    "    return (f(x + h) - f(x - h)) / (2*h)\n",
    "\n",
    "def diff_tangent(f, x0):\n",
    "    alpha = numerical_diff(f, x0)\n",
    "    return lambda x: alpha * (x - x0) + f(x0)\n",
    "\n",
    "%matplotlib inline\n",
    "x = np.arange(0., 100., 0.1)\n",
    "y = f1(x)\n",
    "plt.plot(x, y)\n",
    "plt.plot(x, diff_tangent(f1, 50)(x))"
   ]
  },
  {
   "cell_type": "code",
   "execution_count": 2,
   "metadata": {
    "collapsed": false
   },
   "outputs": [
    {
     "data": {
      "text/plain": [
       "array([ 0.,  4.])"
      ]
     },
     "execution_count": 2,
     "metadata": {},
     "output_type": "execute_result"
    }
   ],
   "source": [
    "def numerical_gradient(f, x):\n",
    "    h = 1e-4\n",
    "    grad = np.zeros_like(x)\n",
    "    \n",
    "    for i in range(x.size):\n",
    "        hs = np.zeros_like(x)\n",
    "        hs[i] = h\n",
    "        grad[i] = (f(x + hs) - f(x - hs)) / (2 * h)\n",
    "    return grad\n",
    "\n",
    "def f2(x):\n",
    "    return sum(x**2)\n",
    "\n",
    "numerical_gradient(f2, np.array([0., 2.]))"
   ]
  },
  {
   "cell_type": "code",
   "execution_count": 3,
   "metadata": {
    "collapsed": false
   },
   "outputs": [
    {
     "data": {
      "text/plain": [
       "array([  6.11110793e-10,   8.14814391e-10])"
      ]
     },
     "execution_count": 3,
     "metadata": {},
     "output_type": "execute_result"
    }
   ],
   "source": [
    "def gradient_descent(f, init_x, lr=0.01, step_num=100):\n",
    "    x = init_x\n",
    "    for i in range(step_num):\n",
    "        grad = numerical_gradient(f, x)\n",
    "        x -= lr * grad\n",
    "    return x\n",
    "\n",
    "init_x = np.array([3., 4.])\n",
    "gradient_descent(f2, init_x, 0.1, 100)\n"
   ]
  },
  {
   "cell_type": "code",
   "execution_count": 4,
   "metadata": {
    "collapsed": false
   },
   "outputs": [
    {
     "data": {
      "image/png": "[encoded data removed]",
      "text/plain": [
       "<matplotlib.figure.Figure at 0x1174afb70>"
      ]
     },
     "metadata": {},
     "output_type": "display_data"
    }
   ],
   "source": [
    "def plot_gradient_descent(f, init_x, lr=0.01, step_num=100, step_plot=10):\n",
    "    x = init_x\n",
    "    xs = [x.copy()]\n",
    "    for _ in range(int(step_num/step_plot)):\n",
    "        x = gradient_descent(f, x, lr=lr, step_num=step_plot)\n",
    "        xs.append(x.copy())\n",
    "    xs = np.array(xs)\n",
    "    plt.plot(xs[:, 0], xs[:, 1], 'ro', ms=6)\n",
    "    plt.show()\n",
    "\n",
    "%matplotlib inline\n",
    "init_x = np.array([3., 4.])\n",
    "plot_gradient_descent(f2, init_x, 0.1, 100, 1)"
   ]
  },
  {
   "cell_type": "code",
   "execution_count": 6,
   "metadata": {
    "collapsed": false
   },
   "outputs": [
    {
     "name": "stdout",
     "output_type": "stream",
     "text": [
      "[[ 1.97221999  0.73619384 -0.83110382]\n",
      " [ 1.06424647  1.61836331  0.58070401]]\n",
      "[ 2.14115382  1.89824328  0.02397132]\n",
      "0\n"
     ]
    },
    {
     "data": {
      "text/plain": [
       "2.7615133036651933"
      ]
     },
     "execution_count": 6,
     "metadata": {},
     "output_type": "execute_result"
    }
   ],
   "source": [
    "# import importlib\n",
    "# importlib.reload(gradient_simplenet)\n",
    "import gradient_simplenet\n",
    "\n",
    "net = gradient_simplenet.simpleNet()\n",
    "print(net.W)\n",
    "x = np.array([0.6, 0.9])\n",
    "p = net.predict(x)\n",
    "print(p)\n",
    "print(np.argmax(p))\n",
    "label = np.array([0, 0, 1])\n",
    "net.loss(x, label)"
   ]
  },
  {
   "cell_type": "code",
   "execution_count": 7,
   "metadata": {
    "collapsed": false
   },
   "outputs": [
    {
     "name": "stdout",
     "output_type": "stream",
     "text": [
      "[[ 0.31500826  0.24707411 -0.56208236]\n",
      " [ 0.47251239  0.37061116 -0.84312354]]\n"
     ]
    }
   ],
   "source": [
    "from common import gradient\n",
    "import importlib\n",
    "importlib.reload(gradient)\n",
    "\n",
    "def f(W):\n",
    "    net.W = W\n",
    "    return net.loss(x, label)\n",
    "\n",
    "dW = gradient.numerical_gradient(f, net.W)\n",
    "print(dW)"
   ]
  },
  {
   "cell_type": "code",
   "execution_count": 8,
   "metadata": {
    "collapsed": false
   },
   "outputs": [
    {
     "data": {
      "text/plain": [
       "{'W1': array([[ -6.72707892e-04,   2.83651096e-04,  -5.46743974e-04,\n",
       "           7.31457156e-04,  -9.73607317e-05],\n",
       "        [ -1.34541578e-03,   5.67302190e-04,  -1.09348795e-03,\n",
       "           1.46291431e-03,  -1.94721461e-04],\n",
       "        [ -2.01812366e-03,   8.50953282e-04,  -1.64023191e-03,\n",
       "           2.19437145e-03,  -2.92082190e-04]]),\n",
       " 'W2': array([[-0.24650251,  0.        ],\n",
       "        [-0.24615653,  0.        ],\n",
       "        [-0.25162461,  0.        ],\n",
       "        [-0.24066801,  0.        ],\n",
       "        [-0.24895422,  0.        ]]),\n",
       " 'b1': array([ -6.72707892e-04,   2.83651096e-04,  -5.46743974e-04,\n",
       "          7.31457156e-04,  -9.73607317e-05]),\n",
       " 'b2': array([-0.49967333,  0.        ])}"
      ]
     },
     "execution_count": 8,
     "metadata": {},
     "output_type": "execute_result"
    }
   ],
   "source": [
    "import two_layers_net\n",
    "importlib.reload(two_layers_net)\n",
    "net = two_layers_net.TwoLayersNet(3, 5, 2)\n",
    "\n",
    "x = np.array([1, 2, 3])\n",
    "label = np.array([1, 1])\n",
    "net.numerical_gradient(x, label)"
   ]
  },
  {
   "cell_type": "code",
   "execution_count": 9,
   "metadata": {
    "collapsed": false
   },
   "outputs": [
    {
     "name": "stdout",
     "output_type": "stream",
     "text": [
      "(784, 100)\n",
      "(100,)\n"
     ]
    }
   ],
   "source": [
    "import two_layers_net\n",
    "import importlib\n",
    "importlib.reload(two_layers_net)\n",
    "net = two_layers_net.TwoLayersNet(784, 100, 10)\n",
    "print(net.params['W1'].shape)\n",
    "print(net.params['b1'].shape)"
   ]
  },
  {
   "cell_type": "code",
   "execution_count": 10,
   "metadata": {
    "collapsed": false
   },
   "outputs": [],
   "source": [
    "x = np.random.rand(100, 784)\n",
    "y = np.random.rand(100, 10)\n",
    "net.loss(x, y)\n",
    "grads = net.numerical_gradient(x, y)"
   ]
  },
  {
   "cell_type": "code",
   "execution_count": 11,
   "metadata": {
    "collapsed": false
   },
   "outputs": [
    {
     "data": {
      "text/plain": [
       "{'W1': array([[  1.61353030e-04,   8.06578049e-05,   7.66996716e-05, ...,\n",
       "           3.39926312e-04,   1.76847877e-04,  -9.09675013e-05],\n",
       "        [  3.11791705e-04,   1.18649202e-04,   5.93084687e-05, ...,\n",
       "           3.42296692e-04,   2.25128282e-04,  -8.39097070e-05],\n",
       "        [  1.94964910e-04,   9.58455121e-05,   1.80385690e-05, ...,\n",
       "           4.31242206e-04,   2.51199077e-04,   5.51659607e-05],\n",
       "        ..., \n",
       "        [  1.77128567e-04,   1.33599436e-04,   2.53541454e-05, ...,\n",
       "           3.22896332e-04,   2.10383660e-04,  -1.05275390e-04],\n",
       "        [  2.15113202e-04,   1.08013682e-04,   4.83132362e-05, ...,\n",
       "           3.25689918e-04,   2.05845482e-04,  -6.38782716e-05],\n",
       "        [  2.21414075e-04,   1.06878925e-04,   7.79742698e-05, ...,\n",
       "           4.13830966e-04,   2.51828662e-04,   1.99770456e-05]]),\n",
       " 'W2': array([[-0.01770345, -0.03841436, -0.02079758, -0.01970419, -0.03304732,\n",
       "         -0.01272065, -0.02591549, -0.03068463, -0.03392426, -0.02318573],\n",
       "        [-0.01654726, -0.03532574, -0.01965048, -0.01897228, -0.03082848,\n",
       "         -0.01176954, -0.02372282, -0.02858549, -0.03040693, -0.02134444],\n",
       "        [-0.01993705, -0.04361771, -0.02413465, -0.02270026, -0.0374799 ,\n",
       "         -0.01454157, -0.02881609, -0.03513894, -0.03762604, -0.0256733 ],\n",
       "        [-0.0184613 , -0.04030223, -0.02238018, -0.02044828, -0.03463733,\n",
       "         -0.01327145, -0.02653093, -0.03227167, -0.0356972 , -0.02375837],\n",
       "        [-0.01847336, -0.03997175, -0.02254647, -0.02090957, -0.03470771,\n",
       "         -0.01312761, -0.02698187, -0.03188514, -0.03420685, -0.02412835],\n",
       "        [-0.01906964, -0.04174009, -0.02381942, -0.0217491 , -0.03598852,\n",
       "         -0.01382232, -0.02779676, -0.03340375, -0.0360011 , -0.02521832],\n",
       "        [-0.01727618, -0.03862418, -0.02143174, -0.01978485, -0.03309957,\n",
       "         -0.01225281, -0.02553171, -0.03058382, -0.03265492, -0.02178575],\n",
       "        [-0.01798193, -0.03970649, -0.02232768, -0.02053112, -0.03356597,\n",
       "         -0.01314949, -0.02620139, -0.03164809, -0.03395059, -0.02378103],\n",
       "        [-0.01759251, -0.03978691, -0.02203094, -0.02108558, -0.03427478,\n",
       "         -0.01306839, -0.02611885, -0.03171658, -0.03493665, -0.02384578],\n",
       "        [-0.01472875, -0.03313515, -0.01825278, -0.01650064, -0.02831816,\n",
       "         -0.01062624, -0.02173801, -0.0253777 , -0.02814941, -0.01915547],\n",
       "        [-0.01709617, -0.0367436 , -0.02010687, -0.01954508, -0.03199378,\n",
       "         -0.01240363, -0.02512322, -0.03030665, -0.03181825, -0.02222658],\n",
       "        [-0.01836928, -0.04149486, -0.02266874, -0.0208426 , -0.03499621,\n",
       "         -0.01353448, -0.02715118, -0.03296754, -0.03457409, -0.02384826],\n",
       "        [-0.01542266, -0.03488426, -0.01906838, -0.0176683 , -0.03074707,\n",
       "         -0.01160292, -0.02366959, -0.02717373, -0.02998968, -0.02103834],\n",
       "        [-0.0164231 , -0.03545306, -0.01976194, -0.01833687, -0.03083209,\n",
       "         -0.01165673, -0.02353947, -0.02841606, -0.03071418, -0.02064284],\n",
       "        [-0.01553222, -0.03552987, -0.01973656, -0.0181484 , -0.03047688,\n",
       "         -0.01133302, -0.0237018 , -0.02784478, -0.03056206, -0.02093348],\n",
       "        [-0.01754157, -0.03812865, -0.02105154, -0.01986486, -0.03270835,\n",
       "         -0.01275608, -0.0258507 , -0.03084608, -0.03300879, -0.02309518],\n",
       "        [-0.01860582, -0.04164003, -0.02338778, -0.02194699, -0.03601754,\n",
       "         -0.01373337, -0.02841003, -0.03322058, -0.03670612, -0.02513221],\n",
       "        [-0.01832861, -0.03991826, -0.02215807, -0.02105103, -0.03497636,\n",
       "         -0.01348174, -0.02703114, -0.03244933, -0.03482235, -0.02368592],\n",
       "        [-0.01770808, -0.04049195, -0.02244059, -0.02089992, -0.03503265,\n",
       "         -0.01349401, -0.02699888, -0.03262347, -0.03495228, -0.02464343],\n",
       "        [-0.01914336, -0.04174734, -0.02398201, -0.02214624, -0.03581055,\n",
       "         -0.0136625 , -0.02820393, -0.03425302, -0.03655704, -0.02558485],\n",
       "        [-0.01823698, -0.04147537, -0.02230921, -0.02122079, -0.03519947,\n",
       "         -0.01367348, -0.02769362, -0.03286265, -0.03536443, -0.02419905],\n",
       "        [-0.01756667, -0.03947795, -0.02161384, -0.02023687, -0.03406337,\n",
       "         -0.01226273, -0.02583842, -0.0308214 , -0.0329979 , -0.02319731],\n",
       "        [-0.01761327, -0.03941077, -0.02171991, -0.02082224, -0.03369471,\n",
       "         -0.01322666, -0.02655701, -0.0318077 , -0.03469832, -0.02408084],\n",
       "        [-0.01801669, -0.03975808, -0.02243065, -0.02079508, -0.03427576,\n",
       "         -0.01325803, -0.02693352, -0.03171923, -0.03505282, -0.02393973],\n",
       "        [-0.01844162, -0.04023782, -0.02232508, -0.02082402, -0.03550914,\n",
       "         -0.01344051, -0.02763945, -0.03280742, -0.03518536, -0.02434666],\n",
       "        [-0.0172549 , -0.03852734, -0.02073014, -0.02002937, -0.03278148,\n",
       "         -0.01244267, -0.0257061 , -0.03121422, -0.03275369, -0.02324076],\n",
       "        [-0.01782589, -0.04035758, -0.02203888, -0.02118845, -0.03489095,\n",
       "         -0.01334951, -0.02637381, -0.03233971, -0.03467548, -0.0241741 ],\n",
       "        [-0.01636493, -0.03633903, -0.01990008, -0.01895028, -0.03046639,\n",
       "         -0.01181862, -0.02395278, -0.02920341, -0.0307407 , -0.02142291],\n",
       "        [-0.01647677, -0.03817173, -0.02068632, -0.01943396, -0.03207104,\n",
       "         -0.01258005, -0.02509619, -0.02988763, -0.03203109, -0.02251372],\n",
       "        [-0.01581356, -0.03502894, -0.01990114, -0.01801915, -0.03067502,\n",
       "         -0.01162284, -0.02373364, -0.02821811, -0.03043918, -0.02126474],\n",
       "        [-0.01622891, -0.03646906, -0.02019563, -0.01870648, -0.03038416,\n",
       "         -0.01185392, -0.02394275, -0.02885263, -0.0303146 , -0.0211008 ],\n",
       "        [-0.01735158, -0.03814736, -0.02102428, -0.02049301, -0.03362571,\n",
       "         -0.01293852, -0.02583045, -0.03108787, -0.0338421 , -0.02259185],\n",
       "        [-0.01813063, -0.03945399, -0.02221081, -0.02082969, -0.03465315,\n",
       "         -0.01351443, -0.0264834 , -0.03159579, -0.03425953, -0.0234478 ],\n",
       "        [-0.01617698, -0.03498371, -0.01976872, -0.01781442, -0.03029975,\n",
       "         -0.01144034, -0.02326382, -0.02872938, -0.03007991, -0.02054562],\n",
       "        [-0.01714653, -0.03790937, -0.02080236, -0.01948977, -0.0328383 ,\n",
       "         -0.01285617, -0.02507417, -0.03036189, -0.03259907, -0.02304522],\n",
       "        [-0.01497128, -0.0330383 , -0.01844583, -0.01739928, -0.02883321,\n",
       "         -0.01091114, -0.02232765, -0.02674422, -0.02881002, -0.01966957],\n",
       "        [-0.01580755, -0.03492808, -0.01910539, -0.01744869, -0.03048698,\n",
       "         -0.01081912, -0.02310635, -0.02730173, -0.02918363, -0.020464  ],\n",
       "        [-0.01768703, -0.03903861, -0.02132488, -0.02014636, -0.0332681 ,\n",
       "         -0.01257918, -0.02590783, -0.03108784, -0.03241886, -0.02335675],\n",
       "        [-0.01714353, -0.0375003 , -0.02080237, -0.01987966, -0.03286457,\n",
       "         -0.01239611, -0.02537163, -0.03006191, -0.03190498, -0.02224522],\n",
       "        [-0.0169415 , -0.03886539, -0.02151279, -0.02042046, -0.03357742,\n",
       "         -0.01276427, -0.02613257, -0.03129247, -0.03340186, -0.02272282],\n",
       "        [-0.01801155, -0.03928919, -0.02205453, -0.02031962, -0.03402705,\n",
       "         -0.01274697, -0.02614194, -0.03191763, -0.03351254, -0.02373517],\n",
       "        [-0.01707952, -0.03752317, -0.0206901 , -0.01939681, -0.03206541,\n",
       "         -0.01235544, -0.02502467, -0.02960952, -0.0318167 , -0.02264584],\n",
       "        [-0.0170481 , -0.03845193, -0.02110877, -0.02042823, -0.03306231,\n",
       "         -0.01304702, -0.02596983, -0.03092979, -0.03301192, -0.02302903],\n",
       "        [-0.01657451, -0.03714051, -0.02029517, -0.01925712, -0.03220355,\n",
       "         -0.01219131, -0.02482566, -0.02959107, -0.03167308, -0.02233505],\n",
       "        [-0.01589403, -0.03557674, -0.01992279, -0.0178734 , -0.03025431,\n",
       "         -0.01152594, -0.02305404, -0.02810972, -0.03052967, -0.02033472],\n",
       "        [-0.01848511, -0.04117164, -0.02244086, -0.02107787, -0.03505665,\n",
       "         -0.01332325, -0.0275557 , -0.03222055, -0.03566024, -0.02466771],\n",
       "        [-0.0162917 , -0.03686067, -0.02015541, -0.01866032, -0.03124244,\n",
       "         -0.0122971 , -0.02456502, -0.02917918, -0.03205966, -0.0217888 ],\n",
       "        [-0.01733407, -0.03788329, -0.02099735, -0.01938816, -0.03244454,\n",
       "         -0.01233035, -0.02533466, -0.03006384, -0.03232086, -0.02205505],\n",
       "        [-0.01627059, -0.03587362, -0.01901129, -0.0188357 , -0.03006845,\n",
       "         -0.01156412, -0.02357195, -0.02843321, -0.03083808, -0.0206097 ],\n",
       "        [-0.0181798 , -0.03932982, -0.0216559 , -0.02046314, -0.03372124,\n",
       "         -0.01290128, -0.0260684 , -0.03125787, -0.03340494, -0.0231467 ],\n",
       "        [-0.01572317, -0.03394092, -0.01860913, -0.01762807, -0.02936605,\n",
       "         -0.01107286, -0.0229731 , -0.02697642, -0.02925063, -0.02078095],\n",
       "        [-0.01648139, -0.03649554, -0.02010736, -0.01820819, -0.03098083,\n",
       "         -0.01177711, -0.02407096, -0.02953981, -0.03092621, -0.02154948],\n",
       "        [-0.01960707, -0.04373749, -0.02385942, -0.02252359, -0.0367854 ,\n",
       "         -0.01381828, -0.0285818 , -0.03442004, -0.03669274, -0.0260544 ],\n",
       "        [-0.01766687, -0.0405119 , -0.02249328, -0.02099549, -0.03439333,\n",
       "         -0.01350217, -0.02651242, -0.03219994, -0.03453281, -0.02371236],\n",
       "        [-0.01768204, -0.04042096, -0.02259078, -0.02101598, -0.03447675,\n",
       "         -0.01320705, -0.02704108, -0.03292286, -0.03397256, -0.02427687],\n",
       "        [-0.01632361, -0.03600261, -0.02007222, -0.01884252, -0.03145804,\n",
       "         -0.01240573, -0.02488041, -0.02930547, -0.03261253, -0.02193653],\n",
       "        [-0.01849027, -0.04234912, -0.02306731, -0.02175612, -0.03557447,\n",
       "         -0.01380398, -0.02801832, -0.03346238, -0.03547521, -0.02464528],\n",
       "        [-0.01538367, -0.03519769, -0.01955785, -0.01794492, -0.02957919,\n",
       "         -0.01163868, -0.02263167, -0.02779857, -0.02988134, -0.02052482],\n",
       "        [-0.01965499, -0.04376709, -0.02416723, -0.02223118, -0.03755233,\n",
       "         -0.01465079, -0.02884461, -0.0348364 , -0.03743817, -0.02590949],\n",
       "        [-0.01735714, -0.03866651, -0.02119323, -0.02037941, -0.03323074,\n",
       "         -0.01225334, -0.0255437 , -0.03057486, -0.03302795, -0.02305499],\n",
       "        [-0.01842611, -0.04112786, -0.02295151, -0.02127703, -0.03585881,\n",
       "         -0.01370053, -0.02765068, -0.03330452, -0.03591987, -0.02496598],\n",
       "        [-0.01831334, -0.04192363, -0.02250731, -0.02154569, -0.03614577,\n",
       "         -0.01381117, -0.02790527, -0.03357788, -0.03537494, -0.0247794 ],\n",
       "        [-0.01815774, -0.04015249, -0.0221876 , -0.02057543, -0.03401065,\n",
       "         -0.01321053, -0.02661903, -0.03177371, -0.03412665, -0.02374281],\n",
       "        [-0.01541561, -0.03492095, -0.01936484, -0.01787962, -0.02985125,\n",
       "         -0.01156733, -0.02275998, -0.02766405, -0.02980956, -0.0205206 ],\n",
       "        [-0.01661549, -0.03660207, -0.02028485, -0.01915293, -0.03172212,\n",
       "         -0.01210472, -0.02443947, -0.02956514, -0.03201408, -0.02221944],\n",
       "        [-0.01671381, -0.0362366 , -0.02003272, -0.01872732, -0.0309283 ,\n",
       "         -0.01145905, -0.02429239, -0.02918059, -0.03138549, -0.02174793],\n",
       "        [-0.01775429, -0.03856567, -0.02103895, -0.01974873, -0.03344481,\n",
       "         -0.01276834, -0.02607083, -0.03139516, -0.03343792, -0.02366157],\n",
       "        [-0.01634883, -0.03722359, -0.02063034, -0.01901949, -0.03156972,\n",
       "         -0.01213907, -0.02412698, -0.03002393, -0.031927  , -0.02190881],\n",
       "        [-0.01546978, -0.0343223 , -0.01883635, -0.01776861, -0.02944631,\n",
       "         -0.01136792, -0.02306905, -0.02775162, -0.02946647, -0.02024356],\n",
       "        [-0.01899114, -0.04314179, -0.02332535, -0.02183423, -0.03657233,\n",
       "         -0.01405391, -0.0283639 , -0.03427143, -0.03661722, -0.02591058],\n",
       "        [-0.018421  , -0.04040357, -0.02246573, -0.02096127, -0.03504926,\n",
       "         -0.01337673, -0.02745016, -0.03212579, -0.03524899, -0.02463022],\n",
       "        [-0.01723135, -0.03910869, -0.02175429, -0.01981426, -0.03314377,\n",
       "         -0.01268827, -0.0257911 , -0.03153684, -0.03345581, -0.02308072],\n",
       "        [-0.01688556, -0.03842548, -0.02117792, -0.01957004, -0.03279882,\n",
       "         -0.01259371, -0.02580193, -0.02969653, -0.03248035, -0.02264904],\n",
       "        [-0.01687488, -0.03744656, -0.02081015, -0.01959871, -0.03263961,\n",
       "         -0.01200988, -0.02557754, -0.03011034, -0.03265642, -0.02197971],\n",
       "        [-0.01603382, -0.03672509, -0.02005468, -0.01913861, -0.03125034,\n",
       "         -0.01216849, -0.02443548, -0.02943115, -0.03189835, -0.02186323],\n",
       "        [-0.01568677, -0.03507834, -0.01968014, -0.01818104, -0.02983922,\n",
       "         -0.01148176, -0.02335819, -0.02725117, -0.03007076, -0.02094133],\n",
       "        [-0.01654753, -0.03782569, -0.02048369, -0.01887315, -0.03185079,\n",
       "         -0.0121716 , -0.02517149, -0.03062639, -0.03227301, -0.02242218],\n",
       "        [-0.01617583, -0.03625432, -0.02004958, -0.01938689, -0.03134545,\n",
       "         -0.01205499, -0.0244367 , -0.0291138 , -0.03103183, -0.02098955],\n",
       "        [-0.01714929, -0.03834094, -0.0209778 , -0.02009072, -0.03278316,\n",
       "         -0.01253543, -0.02531413, -0.03098888, -0.03315136, -0.02277628],\n",
       "        [-0.0177733 , -0.04038219, -0.02257283, -0.02136904, -0.03510244,\n",
       "         -0.01247848, -0.02643286, -0.03191867, -0.03506513, -0.02399142],\n",
       "        [-0.01605701, -0.03662447, -0.02017679, -0.01880581, -0.03211458,\n",
       "         -0.01224987, -0.02501674, -0.02956902, -0.03184928, -0.02184239],\n",
       "        [-0.01646111, -0.03649769, -0.02036866, -0.01891196, -0.03139038,\n",
       "         -0.01172297, -0.02466627, -0.02853991, -0.03164542, -0.02158321],\n",
       "        [-0.01724409, -0.03843324, -0.02043419, -0.01983012, -0.03258656,\n",
       "         -0.01265179, -0.02551284, -0.02999382, -0.03286044, -0.0225051 ],\n",
       "        [-0.01812326, -0.03955871, -0.02191093, -0.02045989, -0.03360838,\n",
       "         -0.01292603, -0.0264982 , -0.03184008, -0.03364357, -0.02318283],\n",
       "        [-0.01606054, -0.03660828, -0.02031034, -0.01867093, -0.03084684,\n",
       "         -0.01185558, -0.02453843, -0.02876093, -0.03113376, -0.02147992],\n",
       "        [-0.01650532, -0.03687816, -0.0205755 , -0.01909597, -0.03137265,\n",
       "         -0.01237693, -0.02458581, -0.03031319, -0.03192335, -0.02222321],\n",
       "        [-0.01444556, -0.03300604, -0.01773347, -0.0171397 , -0.0285169 ,\n",
       "         -0.01072328, -0.02171655, -0.02634581, -0.02805909, -0.01941756],\n",
       "        [-0.0181672 , -0.04179505, -0.02286751, -0.02156465, -0.03574375,\n",
       "         -0.01353868, -0.02738925, -0.03352589, -0.03554602, -0.02497563],\n",
       "        [-0.01637802, -0.03774644, -0.02048248, -0.01957538, -0.03141215,\n",
       "         -0.01233518, -0.02501532, -0.03085184, -0.03226903, -0.0217931 ],\n",
       "        [-0.01800135, -0.03869135, -0.02095447, -0.01988784, -0.03255645,\n",
       "         -0.01272407, -0.02582764, -0.03065184, -0.03327802, -0.02304464],\n",
       "        [-0.01615879, -0.03632217, -0.02042518, -0.019238  , -0.03166775,\n",
       "         -0.01201914, -0.02412936, -0.02926542, -0.03166242, -0.02172931],\n",
       "        [-0.01821434, -0.04035933, -0.02256958, -0.02057419, -0.034631  ,\n",
       "         -0.01347597, -0.02667554, -0.0324157 , -0.03514913, -0.02403855],\n",
       "        [-0.01741649, -0.03910684, -0.02154547, -0.02005464, -0.03396743,\n",
       "         -0.01260866, -0.02570202, -0.03093292, -0.03370057, -0.02324011],\n",
       "        [-0.01727765, -0.0391806 , -0.02132342, -0.02019045, -0.03298665,\n",
       "         -0.01260184, -0.02515637, -0.03102291, -0.03269439, -0.02298983],\n",
       "        [-0.01811814, -0.04159353, -0.02294708, -0.02104523, -0.03510466,\n",
       "         -0.01381665, -0.02769651, -0.03254969, -0.03473179, -0.02464911],\n",
       "        [-0.01751075, -0.03987944, -0.02175867, -0.02065717, -0.03421964,\n",
       "         -0.01275073, -0.02637085, -0.03201153, -0.03446882, -0.02345264],\n",
       "        [-0.01730488, -0.03900559, -0.02159864, -0.01992289, -0.03380263,\n",
       "         -0.01281413, -0.02626781, -0.03093716, -0.03349482, -0.02290752],\n",
       "        [-0.0153302 , -0.03462661, -0.0186416 , -0.01767155, -0.02892253,\n",
       "         -0.01161194, -0.02241902, -0.02755355, -0.02963262, -0.02050692],\n",
       "        [-0.01600519, -0.03560877, -0.02000575, -0.01886095, -0.03054584,\n",
       "         -0.01181517, -0.02427342, -0.02838044, -0.03111252, -0.02125504],\n",
       "        [-0.01697303, -0.0368872 , -0.02053044, -0.01858924, -0.03155907,\n",
       "         -0.01246859, -0.0250241 , -0.03032104, -0.03280831, -0.02256425]]),\n",
       " 'b1': array([  4.31391101e-04,   2.34230939e-04,   1.02833163e-04,\n",
       "          1.63130571e-03,   6.74551093e-04,   7.60891662e-04,\n",
       "          4.35683050e-04,  -4.41040778e-04,   8.13690199e-05,\n",
       "          6.43756753e-04,   8.24443194e-04,  -2.57093093e-04,\n",
       "          2.91752256e-05,  -1.05431718e-04,   3.00206129e-04,\n",
       "         -4.04452420e-04,   4.69205899e-04,   4.48110226e-04,\n",
       "          1.44777300e-04,  -2.32557835e-04,   5.12660173e-04,\n",
       "         -6.63628757e-04,   4.74769992e-04,  -6.20890067e-05,\n",
       "          4.10483983e-04,  -5.27243761e-04,  -4.92013904e-04,\n",
       "          9.77533848e-05,  -1.31438749e-04,  -5.04875040e-04,\n",
       "         -3.26382958e-04,  -1.83255550e-04,  -5.93019999e-04,\n",
       "         -3.13092450e-04,  -1.69923677e-04,  -1.07154168e-04,\n",
       "          1.55629056e-04,  -2.63408175e-04,   4.69299850e-04,\n",
       "         -3.85867230e-04,  -2.50269273e-04,   8.08265815e-05,\n",
       "         -2.58135108e-04,  -4.80537973e-04,  -1.64317268e-04,\n",
       "         -1.76107789e-05,  -6.38048004e-04,   5.20966609e-04,\n",
       "         -3.64608100e-04,  -6.44920377e-04,  -1.98244094e-04,\n",
       "         -4.39552506e-05,  -2.25831786e-04,   7.37589188e-04,\n",
       "          2.40236825e-05,   9.35648303e-05,   4.23072762e-04,\n",
       "         -3.04393459e-04,  -2.49618243e-04,   2.63650523e-04,\n",
       "          1.03698284e-04,  -1.93530620e-04,  -1.84304810e-05,\n",
       "         -1.65465159e-04,   4.20197948e-04,   6.07193102e-04,\n",
       "          4.24254774e-04,   7.87253172e-04,   2.45960877e-04,\n",
       "         -4.91888185e-04,  -4.60681403e-04,  -4.72363165e-05,\n",
       "         -3.67425704e-04,   2.02586770e-04,   3.40294704e-04,\n",
       "          2.27704294e-04,  -4.88419761e-04,  -5.15915455e-05,\n",
       "          4.30910532e-04,   3.21767379e-04,   1.30082329e-04,\n",
       "         -1.51861150e-04,  -1.64239942e-04,   4.67869308e-04,\n",
       "         -9.61675767e-05,  -7.02029784e-04,  -5.73074370e-04,\n",
       "          2.12493019e-04,  -2.67815696e-04,  -1.16836317e-04,\n",
       "          1.20789894e-04,   4.40522845e-04,   3.06675315e-04,\n",
       "         -2.00445772e-04,  -2.37032782e-06,  -2.33819373e-04,\n",
       "          3.28586363e-04,   7.18143495e-04,   4.32183465e-04,\n",
       "         -1.43240684e-04]),\n",
       " 'b2': array([-0.03404357, -0.07602686, -0.04193853, -0.0393233 , -0.06528816,\n",
       "        -0.02502787, -0.05063604, -0.0608141 , -0.06540589, -0.04524624])}"
      ]
     },
     "execution_count": 11,
     "metadata": {},
     "output_type": "execute_result"
    }
   ],
   "source": [
    "grads"
   ]
  },
  {
   "cell_type": "code",
   "execution_count": null,
   "metadata": {
    "collapsed": false
   },
   "outputs": [
    {
     "name": "stdout",
     "output_type": "stream",
     "text": [
      "1 epoch:: acc_train: 0.0986333333333,  acc_test: 0.0958\n"
     ]
    }
   ],
   "source": [
    "sys.path.append(os.pardir)\n",
    "from dataset.mnist import load_mnist\n",
    "from two_layers_net import TwoLayersNet\n",
    "\n",
    "(x_train, y_train), (x_test, y_test) =\\\n",
    "    load_mnist(normalize=True, one_hot_label=True)\n",
    "\n",
    "iter_num = 1000\n",
    "batch_size = 100\n",
    "learning_rate = 0.1\n",
    "\n",
    "net = TwoLayersNet(784, 10, 10)\n",
    "\n",
    "losses_train = []\n",
    "acc_trains, acc_tests = [], []\n",
    "iter_per_epoch = int(x_train.shape[0]/batch_size)\n",
    "n = 1\n",
    "for i in range(iter_num):\n",
    "#     print(i)\n",
    "    batch_mask = np.random.choice(x_train.shape[0], batch_size)\n",
    "    x_batch, y_batch = x_train[batch_mask], y_train[batch_mask]\n",
    "\n",
    "    grads = net.numerical_gradient(x_batch, y_batch)\n",
    "    for k in net.params.keys():\n",
    "        net.params[k] -= learning_rate * grads[k]\n",
    "\n",
    "    losses_train.append(net.loss(x_batch, y_batch))\n",
    "    if i % iter_per_epoch == 0:\n",
    "        acc_trains.append(net.accuracy(x_train, y_train))\n",
    "        acc_tests.append(net.accuracy(x_test, y_test))\n",
    "        print('%d epoch:: acc_train: %s,  acc_test: %s' % (n, acc_trains[-1], acc_tests[-1]))\n",
    "        n += 1"
   ]
  },
  {
   "cell_type": "code",
   "execution_count": null,
   "metadata": {
    "collapsed": false
   },
   "outputs": [],
   "source": [
    "%matplotlib inline\n",
    "plt.plot(losses_train)\n",
    "plt.show()\n",
    "\n"
   ]
  },
  {
   "cell_type": "code",
   "execution_count": null,
   "metadata": {
    "collapsed": true
   },
   "outputs": [],
   "source": []
  }
 ],
 "metadata": {
  "kernelspec": {
   "display_name": "Python 3",
   "language": "python",
   "name": "python3"
  },
  "language_info": {
   "codemirror_mode": {
    "name": "ipython",
    "version": 3
   },
   "file_extension": ".py",
   "mimetype": "text/x-python",
   "name": "python",
   "nbconvert_exporter": "python",
   "pygments_lexer": "ipython3",
   "version": "3.5.2"
  }
 },
 "nbformat": 4,
 "nbformat_minor": 0
}
